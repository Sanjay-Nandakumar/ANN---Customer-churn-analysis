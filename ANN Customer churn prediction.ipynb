{
 "cells": [
  {
   "cell_type": "markdown",
   "metadata": {},
   "source": [
    "# Artificial Neural Network\n",
    "\n"
   ]
  },
  {
   "cell_type": "markdown",
   "metadata": {},
   "source": [
    "\n",
    "## Part 1 - Data Preprocessing"
   ]
  },
  {
   "cell_type": "code",
   "execution_count": 1,
   "metadata": {},
   "outputs": [],
   "source": [
    "# Importing the libraries\n",
    "import numpy as np\n",
    "import matplotlib.pyplot as plt\n",
    "import pandas as pd"
   ]
  },
  {
   "cell_type": "code",
   "execution_count": 2,
   "metadata": {},
   "outputs": [
    {
     "data": {
      "text/html": [
       "<div>\n",
       "<style scoped>\n",
       "    .dataframe tbody tr th:only-of-type {\n",
       "        vertical-align: middle;\n",
       "    }\n",
       "\n",
       "    .dataframe tbody tr th {\n",
       "        vertical-align: top;\n",
       "    }\n",
       "\n",
       "    .dataframe thead th {\n",
       "        text-align: right;\n",
       "    }\n",
       "</style>\n",
       "<table border=\"1\" class=\"dataframe\">\n",
       "  <thead>\n",
       "    <tr style=\"text-align: right;\">\n",
       "      <th></th>\n",
       "      <th>RowNumber</th>\n",
       "      <th>CustomerId</th>\n",
       "      <th>Surname</th>\n",
       "      <th>CreditScore</th>\n",
       "      <th>Geography</th>\n",
       "      <th>Gender</th>\n",
       "      <th>Age</th>\n",
       "      <th>Tenure</th>\n",
       "      <th>Balance</th>\n",
       "      <th>NumOfProducts</th>\n",
       "      <th>HasCrCard</th>\n",
       "      <th>IsActiveMember</th>\n",
       "      <th>EstimatedSalary</th>\n",
       "      <th>Exited</th>\n",
       "    </tr>\n",
       "  </thead>\n",
       "  <tbody>\n",
       "    <tr>\n",
       "      <th>0</th>\n",
       "      <td>1</td>\n",
       "      <td>15634602</td>\n",
       "      <td>Hargrave</td>\n",
       "      <td>619</td>\n",
       "      <td>France</td>\n",
       "      <td>Female</td>\n",
       "      <td>42</td>\n",
       "      <td>2</td>\n",
       "      <td>0.00</td>\n",
       "      <td>1</td>\n",
       "      <td>1</td>\n",
       "      <td>1</td>\n",
       "      <td>101348.88</td>\n",
       "      <td>1</td>\n",
       "    </tr>\n",
       "    <tr>\n",
       "      <th>1</th>\n",
       "      <td>2</td>\n",
       "      <td>15647311</td>\n",
       "      <td>Hill</td>\n",
       "      <td>608</td>\n",
       "      <td>Spain</td>\n",
       "      <td>Female</td>\n",
       "      <td>41</td>\n",
       "      <td>1</td>\n",
       "      <td>83807.86</td>\n",
       "      <td>1</td>\n",
       "      <td>0</td>\n",
       "      <td>1</td>\n",
       "      <td>112542.58</td>\n",
       "      <td>0</td>\n",
       "    </tr>\n",
       "    <tr>\n",
       "      <th>2</th>\n",
       "      <td>3</td>\n",
       "      <td>15619304</td>\n",
       "      <td>Onio</td>\n",
       "      <td>502</td>\n",
       "      <td>France</td>\n",
       "      <td>Female</td>\n",
       "      <td>42</td>\n",
       "      <td>8</td>\n",
       "      <td>159660.80</td>\n",
       "      <td>3</td>\n",
       "      <td>1</td>\n",
       "      <td>0</td>\n",
       "      <td>113931.57</td>\n",
       "      <td>1</td>\n",
       "    </tr>\n",
       "    <tr>\n",
       "      <th>3</th>\n",
       "      <td>4</td>\n",
       "      <td>15701354</td>\n",
       "      <td>Boni</td>\n",
       "      <td>699</td>\n",
       "      <td>France</td>\n",
       "      <td>Female</td>\n",
       "      <td>39</td>\n",
       "      <td>1</td>\n",
       "      <td>0.00</td>\n",
       "      <td>2</td>\n",
       "      <td>0</td>\n",
       "      <td>0</td>\n",
       "      <td>93826.63</td>\n",
       "      <td>0</td>\n",
       "    </tr>\n",
       "    <tr>\n",
       "      <th>4</th>\n",
       "      <td>5</td>\n",
       "      <td>15737888</td>\n",
       "      <td>Mitchell</td>\n",
       "      <td>850</td>\n",
       "      <td>Spain</td>\n",
       "      <td>Female</td>\n",
       "      <td>43</td>\n",
       "      <td>2</td>\n",
       "      <td>125510.82</td>\n",
       "      <td>1</td>\n",
       "      <td>1</td>\n",
       "      <td>1</td>\n",
       "      <td>79084.10</td>\n",
       "      <td>0</td>\n",
       "    </tr>\n",
       "  </tbody>\n",
       "</table>\n",
       "</div>"
      ],
      "text/plain": [
       "   RowNumber  CustomerId   Surname  CreditScore Geography  Gender  Age  \\\n",
       "0          1    15634602  Hargrave          619    France  Female   42   \n",
       "1          2    15647311      Hill          608     Spain  Female   41   \n",
       "2          3    15619304      Onio          502    France  Female   42   \n",
       "3          4    15701354      Boni          699    France  Female   39   \n",
       "4          5    15737888  Mitchell          850     Spain  Female   43   \n",
       "\n",
       "   Tenure    Balance  NumOfProducts  HasCrCard  IsActiveMember  \\\n",
       "0       2       0.00              1          1               1   \n",
       "1       1   83807.86              1          0               1   \n",
       "2       8  159660.80              3          1               0   \n",
       "3       1       0.00              2          0               0   \n",
       "4       2  125510.82              1          1               1   \n",
       "\n",
       "   EstimatedSalary  Exited  \n",
       "0        101348.88       1  \n",
       "1        112542.58       0  \n",
       "2        113931.57       1  \n",
       "3         93826.63       0  \n",
       "4         79084.10       0  "
      ]
     },
     "execution_count": 2,
     "metadata": {},
     "output_type": "execute_result"
    }
   ],
   "source": [
    "# Importing the dataset\n",
    "data = pd.read_csv('Churn_Modelling.csv')\n",
    "data.head()"
   ]
  },
  {
   "cell_type": "code",
   "execution_count": 3,
   "metadata": {},
   "outputs": [
    {
     "name": "stdout",
     "output_type": "stream",
     "text": [
      "<class 'pandas.core.frame.DataFrame'>\n",
      "RangeIndex: 10000 entries, 0 to 9999\n",
      "Data columns (total 14 columns):\n",
      " #   Column           Non-Null Count  Dtype  \n",
      "---  ------           --------------  -----  \n",
      " 0   RowNumber        10000 non-null  int64  \n",
      " 1   CustomerId       10000 non-null  int64  \n",
      " 2   Surname          10000 non-null  object \n",
      " 3   CreditScore      10000 non-null  int64  \n",
      " 4   Geography        10000 non-null  object \n",
      " 5   Gender           10000 non-null  object \n",
      " 6   Age              10000 non-null  int64  \n",
      " 7   Tenure           10000 non-null  int64  \n",
      " 8   Balance          10000 non-null  float64\n",
      " 9   NumOfProducts    10000 non-null  int64  \n",
      " 10  HasCrCard        10000 non-null  int64  \n",
      " 11  IsActiveMember   10000 non-null  int64  \n",
      " 12  EstimatedSalary  10000 non-null  float64\n",
      " 13  Exited           10000 non-null  int64  \n",
      "dtypes: float64(2), int64(9), object(3)\n",
      "memory usage: 1.1+ MB\n"
     ]
    }
   ],
   "source": [
    "data.info()"
   ]
  },
  {
   "cell_type": "code",
   "execution_count": 4,
   "metadata": {},
   "outputs": [
    {
     "data": {
      "text/plain": [
       "10000"
      ]
     },
     "execution_count": 4,
     "metadata": {},
     "output_type": "execute_result"
    }
   ],
   "source": [
    "data.CustomerId.nunique()"
   ]
  },
  {
   "cell_type": "code",
   "execution_count": 5,
   "metadata": {},
   "outputs": [
    {
     "data": {
      "text/plain": [
       "RowNumber          0\n",
       "CustomerId         0\n",
       "Surname            0\n",
       "CreditScore        0\n",
       "Geography          0\n",
       "Gender             0\n",
       "Age                0\n",
       "Tenure             0\n",
       "Balance            0\n",
       "NumOfProducts      0\n",
       "HasCrCard          0\n",
       "IsActiveMember     0\n",
       "EstimatedSalary    0\n",
       "Exited             0\n",
       "dtype: int64"
      ]
     },
     "execution_count": 5,
     "metadata": {},
     "output_type": "execute_result"
    }
   ],
   "source": [
    "data.isnull().sum()"
   ]
  },
  {
   "cell_type": "code",
   "execution_count": 6,
   "metadata": {},
   "outputs": [
    {
     "data": {
      "text/html": [
       "<div>\n",
       "<style scoped>\n",
       "    .dataframe tbody tr th:only-of-type {\n",
       "        vertical-align: middle;\n",
       "    }\n",
       "\n",
       "    .dataframe tbody tr th {\n",
       "        vertical-align: top;\n",
       "    }\n",
       "\n",
       "    .dataframe thead th {\n",
       "        text-align: right;\n",
       "    }\n",
       "</style>\n",
       "<table border=\"1\" class=\"dataframe\">\n",
       "  <thead>\n",
       "    <tr style=\"text-align: right;\">\n",
       "      <th></th>\n",
       "      <th>CreditScore</th>\n",
       "      <th>Geography</th>\n",
       "      <th>Gender</th>\n",
       "      <th>Age</th>\n",
       "      <th>Tenure</th>\n",
       "      <th>Balance</th>\n",
       "      <th>NumOfProducts</th>\n",
       "      <th>HasCrCard</th>\n",
       "      <th>IsActiveMember</th>\n",
       "      <th>EstimatedSalary</th>\n",
       "    </tr>\n",
       "  </thead>\n",
       "  <tbody>\n",
       "    <tr>\n",
       "      <th>0</th>\n",
       "      <td>619</td>\n",
       "      <td>France</td>\n",
       "      <td>Female</td>\n",
       "      <td>42</td>\n",
       "      <td>2</td>\n",
       "      <td>0.00</td>\n",
       "      <td>1</td>\n",
       "      <td>1</td>\n",
       "      <td>1</td>\n",
       "      <td>101348.88</td>\n",
       "    </tr>\n",
       "    <tr>\n",
       "      <th>1</th>\n",
       "      <td>608</td>\n",
       "      <td>Spain</td>\n",
       "      <td>Female</td>\n",
       "      <td>41</td>\n",
       "      <td>1</td>\n",
       "      <td>83807.86</td>\n",
       "      <td>1</td>\n",
       "      <td>0</td>\n",
       "      <td>1</td>\n",
       "      <td>112542.58</td>\n",
       "    </tr>\n",
       "    <tr>\n",
       "      <th>2</th>\n",
       "      <td>502</td>\n",
       "      <td>France</td>\n",
       "      <td>Female</td>\n",
       "      <td>42</td>\n",
       "      <td>8</td>\n",
       "      <td>159660.80</td>\n",
       "      <td>3</td>\n",
       "      <td>1</td>\n",
       "      <td>0</td>\n",
       "      <td>113931.57</td>\n",
       "    </tr>\n",
       "    <tr>\n",
       "      <th>3</th>\n",
       "      <td>699</td>\n",
       "      <td>France</td>\n",
       "      <td>Female</td>\n",
       "      <td>39</td>\n",
       "      <td>1</td>\n",
       "      <td>0.00</td>\n",
       "      <td>2</td>\n",
       "      <td>0</td>\n",
       "      <td>0</td>\n",
       "      <td>93826.63</td>\n",
       "    </tr>\n",
       "    <tr>\n",
       "      <th>4</th>\n",
       "      <td>850</td>\n",
       "      <td>Spain</td>\n",
       "      <td>Female</td>\n",
       "      <td>43</td>\n",
       "      <td>2</td>\n",
       "      <td>125510.82</td>\n",
       "      <td>1</td>\n",
       "      <td>1</td>\n",
       "      <td>1</td>\n",
       "      <td>79084.10</td>\n",
       "    </tr>\n",
       "  </tbody>\n",
       "</table>\n",
       "</div>"
      ],
      "text/plain": [
       "   CreditScore Geography  Gender  Age  Tenure    Balance  NumOfProducts  \\\n",
       "0          619    France  Female   42       2       0.00              1   \n",
       "1          608     Spain  Female   41       1   83807.86              1   \n",
       "2          502    France  Female   42       8  159660.80              3   \n",
       "3          699    France  Female   39       1       0.00              2   \n",
       "4          850     Spain  Female   43       2  125510.82              1   \n",
       "\n",
       "   HasCrCard  IsActiveMember  EstimatedSalary  \n",
       "0          1               1        101348.88  \n",
       "1          0               1        112542.58  \n",
       "2          1               0        113931.57  \n",
       "3          0               0         93826.63  \n",
       "4          1               1         79084.10  "
      ]
     },
     "execution_count": 6,
     "metadata": {},
     "output_type": "execute_result"
    }
   ],
   "source": [
    "X = data.iloc[:, 3:13]  ### RowNumber, CustomerId, Surname are unique values and vulnarable for the dataset\n",
    "y = data.iloc[:, 13]\n",
    "X.head()"
   ]
  },
  {
   "cell_type": "code",
   "execution_count": 7,
   "metadata": {},
   "outputs": [
    {
     "data": {
      "text/plain": [
       "0    1\n",
       "1    0\n",
       "2    1\n",
       "3    0\n",
       "4    0\n",
       "Name: Exited, dtype: int64"
      ]
     },
     "execution_count": 7,
     "metadata": {},
     "output_type": "execute_result"
    }
   ],
   "source": [
    "y.head()"
   ]
  },
  {
   "cell_type": "code",
   "execution_count": 8,
   "metadata": {},
   "outputs": [],
   "source": [
    "#Create dummy variables\n",
    "geography=pd.get_dummies(X[\"Geography\"],drop_first=True)\n",
    "gender=pd.get_dummies(X['Gender'],drop_first=True)"
   ]
  },
  {
   "cell_type": "code",
   "execution_count": 9,
   "metadata": {},
   "outputs": [
    {
     "data": {
      "text/html": [
       "<div>\n",
       "<style scoped>\n",
       "    .dataframe tbody tr th:only-of-type {\n",
       "        vertical-align: middle;\n",
       "    }\n",
       "\n",
       "    .dataframe tbody tr th {\n",
       "        vertical-align: top;\n",
       "    }\n",
       "\n",
       "    .dataframe thead th {\n",
       "        text-align: right;\n",
       "    }\n",
       "</style>\n",
       "<table border=\"1\" class=\"dataframe\">\n",
       "  <thead>\n",
       "    <tr style=\"text-align: right;\">\n",
       "      <th></th>\n",
       "      <th>CreditScore</th>\n",
       "      <th>Geography</th>\n",
       "      <th>Gender</th>\n",
       "      <th>Age</th>\n",
       "      <th>Tenure</th>\n",
       "      <th>Balance</th>\n",
       "      <th>NumOfProducts</th>\n",
       "      <th>HasCrCard</th>\n",
       "      <th>IsActiveMember</th>\n",
       "      <th>EstimatedSalary</th>\n",
       "      <th>Germany</th>\n",
       "      <th>Spain</th>\n",
       "      <th>Male</th>\n",
       "    </tr>\n",
       "  </thead>\n",
       "  <tbody>\n",
       "    <tr>\n",
       "      <th>0</th>\n",
       "      <td>619</td>\n",
       "      <td>France</td>\n",
       "      <td>Female</td>\n",
       "      <td>42</td>\n",
       "      <td>2</td>\n",
       "      <td>0.00</td>\n",
       "      <td>1</td>\n",
       "      <td>1</td>\n",
       "      <td>1</td>\n",
       "      <td>101348.88</td>\n",
       "      <td>0</td>\n",
       "      <td>0</td>\n",
       "      <td>0</td>\n",
       "    </tr>\n",
       "    <tr>\n",
       "      <th>1</th>\n",
       "      <td>608</td>\n",
       "      <td>Spain</td>\n",
       "      <td>Female</td>\n",
       "      <td>41</td>\n",
       "      <td>1</td>\n",
       "      <td>83807.86</td>\n",
       "      <td>1</td>\n",
       "      <td>0</td>\n",
       "      <td>1</td>\n",
       "      <td>112542.58</td>\n",
       "      <td>0</td>\n",
       "      <td>1</td>\n",
       "      <td>0</td>\n",
       "    </tr>\n",
       "    <tr>\n",
       "      <th>2</th>\n",
       "      <td>502</td>\n",
       "      <td>France</td>\n",
       "      <td>Female</td>\n",
       "      <td>42</td>\n",
       "      <td>8</td>\n",
       "      <td>159660.80</td>\n",
       "      <td>3</td>\n",
       "      <td>1</td>\n",
       "      <td>0</td>\n",
       "      <td>113931.57</td>\n",
       "      <td>0</td>\n",
       "      <td>0</td>\n",
       "      <td>0</td>\n",
       "    </tr>\n",
       "    <tr>\n",
       "      <th>3</th>\n",
       "      <td>699</td>\n",
       "      <td>France</td>\n",
       "      <td>Female</td>\n",
       "      <td>39</td>\n",
       "      <td>1</td>\n",
       "      <td>0.00</td>\n",
       "      <td>2</td>\n",
       "      <td>0</td>\n",
       "      <td>0</td>\n",
       "      <td>93826.63</td>\n",
       "      <td>0</td>\n",
       "      <td>0</td>\n",
       "      <td>0</td>\n",
       "    </tr>\n",
       "    <tr>\n",
       "      <th>4</th>\n",
       "      <td>850</td>\n",
       "      <td>Spain</td>\n",
       "      <td>Female</td>\n",
       "      <td>43</td>\n",
       "      <td>2</td>\n",
       "      <td>125510.82</td>\n",
       "      <td>1</td>\n",
       "      <td>1</td>\n",
       "      <td>1</td>\n",
       "      <td>79084.10</td>\n",
       "      <td>0</td>\n",
       "      <td>1</td>\n",
       "      <td>0</td>\n",
       "    </tr>\n",
       "  </tbody>\n",
       "</table>\n",
       "</div>"
      ],
      "text/plain": [
       "   CreditScore Geography  Gender  Age  Tenure    Balance  NumOfProducts  \\\n",
       "0          619    France  Female   42       2       0.00              1   \n",
       "1          608     Spain  Female   41       1   83807.86              1   \n",
       "2          502    France  Female   42       8  159660.80              3   \n",
       "3          699    France  Female   39       1       0.00              2   \n",
       "4          850     Spain  Female   43       2  125510.82              1   \n",
       "\n",
       "   HasCrCard  IsActiveMember  EstimatedSalary  Germany  Spain  Male  \n",
       "0          1               1        101348.88        0      0     0  \n",
       "1          0               1        112542.58        0      1     0  \n",
       "2          1               0        113931.57        0      0     0  \n",
       "3          0               0         93826.63        0      0     0  \n",
       "4          1               1         79084.10        0      1     0  "
      ]
     },
     "execution_count": 9,
     "metadata": {},
     "output_type": "execute_result"
    }
   ],
   "source": [
    "## Concatenate the Data Frames\n",
    "\n",
    "X=pd.concat([X,geography,gender],axis=1)\n",
    "X.head()"
   ]
  },
  {
   "cell_type": "code",
   "execution_count": 10,
   "metadata": {},
   "outputs": [],
   "source": [
    "## Drop Unnecessary columns\n",
    "X=X.drop(['Geography','Gender'],axis=1)\n"
   ]
  },
  {
   "cell_type": "code",
   "execution_count": 11,
   "metadata": {},
   "outputs": [],
   "source": [
    "# Splitting the dataset into the Training set and Test set\n",
    "from sklearn.model_selection import train_test_split\n",
    "X_train, X_test, y_train, y_test = train_test_split(X, y, test_size = 0.2, random_state = 0)"
   ]
  },
  {
   "cell_type": "code",
   "execution_count": 12,
   "metadata": {},
   "outputs": [],
   "source": [
    "# Feature Scaling\n",
    "from sklearn.preprocessing import StandardScaler\n",
    "sc = StandardScaler()\n",
    "X_train = sc.fit_transform(X_train)\n",
    "X_test = sc.transform(X_test)"
   ]
  },
  {
   "cell_type": "markdown",
   "metadata": {},
   "source": [
    "## Part 2 - Now let's make the ANN!"
   ]
  },
  {
   "cell_type": "code",
   "execution_count": 13,
   "metadata": {},
   "outputs": [
    {
     "name": "stderr",
     "output_type": "stream",
     "text": [
      "Using TensorFlow backend.\n"
     ]
    }
   ],
   "source": [
    "# Importing the Keras libraries and packages\n",
    "import keras\n",
    "from keras.models import Sequential\n",
    "from keras.layers import Dense           #A dense layer is just a regular layer of neurons in a neural network.Each neuron recieves input from all the neurons in the previous layer, thus densely connected. The layer has a weight matrix W, a bias vector b, and the activations of previous layer a\n",
    "from keras.layers import LeakyReLU,PReLU,ELU          #Activation functions\n",
    "from keras.layers import Dropout        #Regularization parameter"
   ]
  },
  {
   "cell_type": "code",
   "execution_count": 14,
   "metadata": {},
   "outputs": [],
   "source": [
    "# Initialising the ANN\n",
    "classifier = Sequential()"
   ]
  },
  {
   "cell_type": "code",
   "execution_count": 15,
   "metadata": {},
   "outputs": [],
   "source": [
    "# Adding the input layer and the first hidden layer\n",
    "classifier.add(Dense(input_dim = 11, kernel_initializer = 'he_uniform',activation='relu',units = 6))\n",
    "      #11 input features connected to the input layer, initialization parameter, activation functions, first hidden layer consist 6 neurons\n",
    "           #as in xtrain 11 features are there           #how weights are initialized\n",
    "         ## always equal to the input features   \n",
    "            \n",
    "# Adding the second hidden layer\n",
    "classifier.add(Dense( kernel_initializer = 'he_uniform',activation='relu',units = 6))\n",
    "                                                                          # second hidden layer consist 6 neurons\n",
    "\n",
    "# Adding the output layer\n",
    "classifier.add(Dense( kernel_initializer = 'glorot_uniform', activation = 'sigmoid',units = 1))\n",
    "                      #glorot_uniform ,    sigmoid activation only suitable in output layer, output layer consist 1 neurons \n",
    "                    #      initialization used in output layer                                     coz of binary classification problem"
   ]
  },
  {
   "cell_type": "code",
   "execution_count": 16,
   "metadata": {},
   "outputs": [
    {
     "name": "stdout",
     "output_type": "stream",
     "text": [
      "Model: \"sequential_1\"\n",
      "_________________________________________________________________\n",
      "Layer (type)                 Output Shape              Param #   \n",
      "=================================================================\n",
      "dense_1 (Dense)              (None, 6)                 72        \n",
      "_________________________________________________________________\n",
      "dense_2 (Dense)              (None, 6)                 42        \n",
      "_________________________________________________________________\n",
      "dense_3 (Dense)              (None, 1)                 7         \n",
      "=================================================================\n",
      "Total params: 121\n",
      "Trainable params: 121\n",
      "Non-trainable params: 0\n",
      "_________________________________________________________________\n"
     ]
    }
   ],
   "source": [
    "classifier.summary()"
   ]
  },
  {
   "cell_type": "code",
   "execution_count": 17,
   "metadata": {},
   "outputs": [],
   "source": [
    "#### With he_uniform and he_normal , the ReLU activation function works well \n",
    "### while glorot_uniform works well with sigmoid activation function which is used in output layer"
   ]
  },
  {
   "cell_type": "code",
   "execution_count": 18,
   "metadata": {},
   "outputs": [],
   "source": [
    "# Compiling the ANN\n",
    "classifier.compile(optimizer = 'Adamax', loss = 'binary_crossentropy', metrics = ['accuracy'])\n",
    "                 #optimizer             loss function                  performance metrics\n",
    "                                        #binary_crossentropy best for binary classification problem"
   ]
  },
  {
   "cell_type": "code",
   "execution_count": 19,
   "metadata": {},
   "outputs": [
    {
     "name": "stderr",
     "output_type": "stream",
     "text": [
      "C:\\ProgramData\\Anaconda3\\lib\\site-packages\\ipykernel_launcher.py:2: UserWarning: The `nb_epoch` argument in `fit` has been renamed `epochs`.\n",
      "  \n"
     ]
    },
    {
     "name": "stdout",
     "output_type": "stream",
     "text": [
      "Train on 5359 samples, validate on 2641 samples\n",
      "Epoch 1/100\n",
      "5359/5359 [==============================] - 3s 591us/step - loss: 0.5576 - accuracy: 0.7876 - val_loss: 0.5218 - val_accuracy: 0.7955\n",
      "Epoch 2/100\n",
      "5359/5359 [==============================] - 1s 218us/step - loss: 0.5035 - accuracy: 0.7962 - val_loss: 0.4930 - val_accuracy: 0.7955\n",
      "Epoch 3/100\n",
      "5359/5359 [==============================] - 1s 208us/step - loss: 0.4806 - accuracy: 0.7962 - val_loss: 0.4761 - val_accuracy: 0.7955\n",
      "Epoch 4/100\n",
      "5359/5359 [==============================] - 1s 190us/step - loss: 0.4659 - accuracy: 0.7962 - val_loss: 0.4638 - val_accuracy: 0.7955\n",
      "Epoch 5/100\n",
      "5359/5359 [==============================] - 1s 221us/step - loss: 0.4555 - accuracy: 0.7962 - val_loss: 0.4555 - val_accuracy: 0.7955\n",
      "Epoch 6/100\n",
      "5359/5359 [==============================] - 1s 217us/step - loss: 0.4482 - accuracy: 0.7964 - val_loss: 0.4498 - val_accuracy: 0.7959\n",
      "Epoch 7/100\n",
      "5359/5359 [==============================] - 1s 233us/step - loss: 0.4427 - accuracy: 0.7966 - val_loss: 0.4455 - val_accuracy: 0.7959\n",
      "Epoch 8/100\n",
      "5359/5359 [==============================] - 1s 215us/step - loss: 0.4386 - accuracy: 0.7966 - val_loss: 0.4425 - val_accuracy: 0.7959\n",
      "Epoch 9/100\n",
      "5359/5359 [==============================] - 1s 204us/step - loss: 0.4353 - accuracy: 0.7964 - val_loss: 0.4402 - val_accuracy: 0.7959\n",
      "Epoch 10/100\n",
      "5359/5359 [==============================] - 1s 203us/step - loss: 0.4325 - accuracy: 0.7970 - val_loss: 0.4383 - val_accuracy: 0.7959\n",
      "Epoch 11/100\n",
      "5359/5359 [==============================] - 1s 220us/step - loss: 0.4301 - accuracy: 0.7972 - val_loss: 0.4365 - val_accuracy: 0.7959\n",
      "Epoch 12/100\n",
      "5359/5359 [==============================] - 1s 263us/step - loss: 0.4279 - accuracy: 0.7977 - val_loss: 0.4350 - val_accuracy: 0.7963\n",
      "Epoch 13/100\n",
      "5359/5359 [==============================] - 1s 226us/step - loss: 0.4257 - accuracy: 0.7974 - val_loss: 0.4337 - val_accuracy: 0.7963\n",
      "Epoch 14/100\n",
      "5359/5359 [==============================] - 1s 214us/step - loss: 0.4238 - accuracy: 0.7975 - val_loss: 0.4322 - val_accuracy: 0.7970\n",
      "Epoch 15/100\n",
      "5359/5359 [==============================] - 1s 257us/step - loss: 0.4215 - accuracy: 0.7992 - val_loss: 0.4306 - val_accuracy: 0.7970\n",
      "Epoch 16/100\n",
      "5359/5359 [==============================] - 1s 246us/step - loss: 0.4195 - accuracy: 0.7998 - val_loss: 0.4289 - val_accuracy: 0.7982\n",
      "Epoch 17/100\n",
      "5359/5359 [==============================] - 1s 197us/step - loss: 0.4172 - accuracy: 0.8000 - val_loss: 0.4273 - val_accuracy: 0.7978\n",
      "Epoch 18/100\n",
      "5359/5359 [==============================] - 1s 215us/step - loss: 0.4150 - accuracy: 0.8013 - val_loss: 0.4255 - val_accuracy: 0.7997\n",
      "Epoch 19/100\n",
      "5359/5359 [==============================] - 1s 199us/step - loss: 0.4122 - accuracy: 0.8037 - val_loss: 0.4234 - val_accuracy: 0.8005\n",
      "Epoch 20/100\n",
      "5359/5359 [==============================] - 1s 211us/step - loss: 0.4090 - accuracy: 0.8155 - val_loss: 0.4211 - val_accuracy: 0.8133\n",
      "Epoch 21/100\n",
      "5359/5359 [==============================] - 1s 212us/step - loss: 0.4060 - accuracy: 0.8225 - val_loss: 0.4181 - val_accuracy: 0.8133\n",
      "Epoch 22/100\n",
      "5359/5359 [==============================] - 1s 199us/step - loss: 0.4018 - accuracy: 0.8252 - val_loss: 0.4147 - val_accuracy: 0.8160\n",
      "Epoch 23/100\n",
      "5359/5359 [==============================] - 1s 208us/step - loss: 0.3967 - accuracy: 0.8296 - val_loss: 0.4106 - val_accuracy: 0.8194\n",
      "Epoch 24/100\n",
      "5359/5359 [==============================] - 1s 208us/step - loss: 0.3914 - accuracy: 0.8356 - val_loss: 0.4056 - val_accuracy: 0.8228\n",
      "Epoch 25/100\n",
      "5359/5359 [==============================] - 1s 236us/step - loss: 0.3860 - accuracy: 0.8403 - val_loss: 0.4005 - val_accuracy: 0.8239\n",
      "Epoch 26/100\n",
      "5359/5359 [==============================] - 1s 225us/step - loss: 0.3805 - accuracy: 0.8440 - val_loss: 0.3960 - val_accuracy: 0.8251\n",
      "Epoch 27/100\n",
      "5359/5359 [==============================] - 1s 211us/step - loss: 0.3754 - accuracy: 0.8485 - val_loss: 0.3913 - val_accuracy: 0.8266\n",
      "Epoch 28/100\n",
      "5359/5359 [==============================] - 1s 199us/step - loss: 0.3709 - accuracy: 0.8520 - val_loss: 0.3872 - val_accuracy: 0.8300\n",
      "Epoch 29/100\n",
      "5359/5359 [==============================] - 1s 215us/step - loss: 0.3668 - accuracy: 0.8528 - val_loss: 0.3835 - val_accuracy: 0.8330\n",
      "Epoch 30/100\n",
      "5359/5359 [==============================] - 1s 208us/step - loss: 0.3633 - accuracy: 0.8533 - val_loss: 0.3802 - val_accuracy: 0.8353\n",
      "Epoch 31/100\n",
      "5359/5359 [==============================] - 1s 200us/step - loss: 0.3599 - accuracy: 0.8537 - val_loss: 0.3776 - val_accuracy: 0.8368\n",
      "Epoch 32/100\n",
      "5359/5359 [==============================] - 1s 208us/step - loss: 0.3572 - accuracy: 0.8550 - val_loss: 0.3755 - val_accuracy: 0.8402\n",
      "Epoch 33/100\n",
      "5359/5359 [==============================] - 1s 196us/step - loss: 0.3550 - accuracy: 0.8548 - val_loss: 0.3741 - val_accuracy: 0.8421\n",
      "Epoch 34/100\n",
      "5359/5359 [==============================] - 1s 208us/step - loss: 0.3531 - accuracy: 0.8574 - val_loss: 0.3728 - val_accuracy: 0.8436\n",
      "Epoch 35/100\n",
      "5359/5359 [==============================] - 1s 215us/step - loss: 0.3511 - accuracy: 0.8567 - val_loss: 0.3717 - val_accuracy: 0.8436\n",
      "Epoch 36/100\n",
      "5359/5359 [==============================] - 1s 198us/step - loss: 0.3497 - accuracy: 0.8576 - val_loss: 0.3701 - val_accuracy: 0.8459\n",
      "Epoch 37/100\n",
      "5359/5359 [==============================] - 1s 206us/step - loss: 0.3482 - accuracy: 0.8574 - val_loss: 0.3697 - val_accuracy: 0.8463\n",
      "Epoch 38/100\n",
      "5359/5359 [==============================] - 1s 202us/step - loss: 0.3470 - accuracy: 0.8569 - val_loss: 0.3687 - val_accuracy: 0.8459\n",
      "Epoch 39/100\n",
      "5359/5359 [==============================] - 1s 221us/step - loss: 0.3459 - accuracy: 0.8589 - val_loss: 0.3681 - val_accuracy: 0.8444\n",
      "Epoch 40/100\n",
      "5359/5359 [==============================] - 1s 237us/step - loss: 0.3451 - accuracy: 0.8580 - val_loss: 0.3680 - val_accuracy: 0.8440\n",
      "Epoch 41/100\n",
      "5359/5359 [==============================] - 1s 206us/step - loss: 0.3443 - accuracy: 0.8586 - val_loss: 0.3677 - val_accuracy: 0.8436\n",
      "Epoch 42/100\n",
      "5359/5359 [==============================] - 1s 199us/step - loss: 0.3435 - accuracy: 0.8599 - val_loss: 0.3675 - val_accuracy: 0.8440\n",
      "Epoch 43/100\n",
      "5359/5359 [==============================] - 1s 208us/step - loss: 0.3429 - accuracy: 0.8591 - val_loss: 0.3672 - val_accuracy: 0.8463\n",
      "Epoch 44/100\n",
      "5359/5359 [==============================] - 1s 208us/step - loss: 0.3423 - accuracy: 0.8602 - val_loss: 0.3669 - val_accuracy: 0.8455\n",
      "Epoch 45/100\n",
      "5359/5359 [==============================] - 1s 197us/step - loss: 0.3419 - accuracy: 0.8604 - val_loss: 0.3666 - val_accuracy: 0.8470\n",
      "Epoch 46/100\n",
      "5359/5359 [==============================] - 1s 217us/step - loss: 0.3413 - accuracy: 0.8589 - val_loss: 0.3666 - val_accuracy: 0.8459\n",
      "Epoch 47/100\n",
      "5359/5359 [==============================] - 1s 200us/step - loss: 0.3408 - accuracy: 0.8614 - val_loss: 0.3666 - val_accuracy: 0.8470\n",
      "Epoch 48/100\n",
      "5359/5359 [==============================] - 1s 205us/step - loss: 0.3406 - accuracy: 0.8599 - val_loss: 0.3658 - val_accuracy: 0.8448\n",
      "Epoch 49/100\n",
      "5359/5359 [==============================] - 1s 211us/step - loss: 0.3400 - accuracy: 0.8597 - val_loss: 0.3661 - val_accuracy: 0.8444\n",
      "Epoch 50/100\n",
      "5359/5359 [==============================] - 1s 207us/step - loss: 0.3400 - accuracy: 0.8600 - val_loss: 0.3659 - val_accuracy: 0.8436\n",
      "Epoch 51/100\n",
      "5359/5359 [==============================] - 1s 207us/step - loss: 0.3397 - accuracy: 0.8599 - val_loss: 0.3652 - val_accuracy: 0.8470\n",
      "Epoch 52/100\n",
      "5359/5359 [==============================] - 1s 211us/step - loss: 0.3390 - accuracy: 0.8597 - val_loss: 0.3654 - val_accuracy: 0.8448\n",
      "Epoch 53/100\n",
      "5359/5359 [==============================] - 1s 215us/step - loss: 0.3391 - accuracy: 0.8595 - val_loss: 0.3647 - val_accuracy: 0.8459\n",
      "Epoch 54/100\n",
      "5359/5359 [==============================] - 1s 252us/step - loss: 0.3389 - accuracy: 0.8608 - val_loss: 0.3650 - val_accuracy: 0.8448\n",
      "Epoch 55/100\n",
      "5359/5359 [==============================] - 1s 215us/step - loss: 0.3386 - accuracy: 0.8591 - val_loss: 0.3644 - val_accuracy: 0.8436\n",
      "Epoch 56/100\n"
     ]
    },
    {
     "name": "stdout",
     "output_type": "stream",
     "text": [
      "5359/5359 [==============================] - 1s 190us/step - loss: 0.3383 - accuracy: 0.8599 - val_loss: 0.3646 - val_accuracy: 0.8451\n",
      "Epoch 57/100\n",
      "5359/5359 [==============================] - 1s 199us/step - loss: 0.3382 - accuracy: 0.8586 - val_loss: 0.3642 - val_accuracy: 0.8459\n",
      "Epoch 58/100\n",
      "5359/5359 [==============================] - 1s 201us/step - loss: 0.3379 - accuracy: 0.8595 - val_loss: 0.3637 - val_accuracy: 0.8459\n",
      "Epoch 59/100\n",
      "5359/5359 [==============================] - 1s 193us/step - loss: 0.3377 - accuracy: 0.8593 - val_loss: 0.3636 - val_accuracy: 0.8466\n",
      "Epoch 60/100\n",
      "5359/5359 [==============================] - 1s 204us/step - loss: 0.3374 - accuracy: 0.8593 - val_loss: 0.3633 - val_accuracy: 0.8466\n",
      "Epoch 61/100\n",
      "5359/5359 [==============================] - 1s 194us/step - loss: 0.3373 - accuracy: 0.8597 - val_loss: 0.3632 - val_accuracy: 0.8466\n",
      "Epoch 62/100\n",
      "5359/5359 [==============================] - 1s 208us/step - loss: 0.3370 - accuracy: 0.8602 - val_loss: 0.3639 - val_accuracy: 0.8478\n",
      "Epoch 63/100\n",
      "5359/5359 [==============================] - 1s 202us/step - loss: 0.3368 - accuracy: 0.8589 - val_loss: 0.3630 - val_accuracy: 0.8497\n",
      "Epoch 64/100\n",
      "5359/5359 [==============================] - 1s 193us/step - loss: 0.3367 - accuracy: 0.8593 - val_loss: 0.3627 - val_accuracy: 0.8482\n",
      "Epoch 65/100\n",
      "5359/5359 [==============================] - 1s 249us/step - loss: 0.3365 - accuracy: 0.8599 - val_loss: 0.3623 - val_accuracy: 0.8482\n",
      "Epoch 66/100\n",
      "5359/5359 [==============================] - 1s 232us/step - loss: 0.3362 - accuracy: 0.8591 - val_loss: 0.3618 - val_accuracy: 0.8489\n",
      "Epoch 67/100\n",
      "5359/5359 [==============================] - 1s 249us/step - loss: 0.3361 - accuracy: 0.8593 - val_loss: 0.3610 - val_accuracy: 0.8504\n",
      "Epoch 68/100\n",
      "5359/5359 [==============================] - 2s 298us/step - loss: 0.3359 - accuracy: 0.8587 - val_loss: 0.3613 - val_accuracy: 0.8508\n",
      "Epoch 69/100\n",
      "5359/5359 [==============================] - 1s 224us/step - loss: 0.3358 - accuracy: 0.8597 - val_loss: 0.3608 - val_accuracy: 0.8508\n",
      "Epoch 70/100\n",
      "5359/5359 [==============================] - 1s 239us/step - loss: 0.3354 - accuracy: 0.8586 - val_loss: 0.3608 - val_accuracy: 0.8497\n",
      "Epoch 71/100\n",
      "5359/5359 [==============================] - 1s 220us/step - loss: 0.3354 - accuracy: 0.8591 - val_loss: 0.3601 - val_accuracy: 0.8512\n",
      "Epoch 72/100\n",
      "5359/5359 [==============================] - 1s 213us/step - loss: 0.3351 - accuracy: 0.8591 - val_loss: 0.3600 - val_accuracy: 0.8512\n",
      "Epoch 73/100\n",
      "5359/5359 [==============================] - 1s 227us/step - loss: 0.3350 - accuracy: 0.8604 - val_loss: 0.3601 - val_accuracy: 0.8527\n",
      "Epoch 74/100\n",
      "5359/5359 [==============================] - 1s 223us/step - loss: 0.3348 - accuracy: 0.8602 - val_loss: 0.3600 - val_accuracy: 0.8516\n",
      "Epoch 75/100\n",
      "5359/5359 [==============================] - 1s 210us/step - loss: 0.3347 - accuracy: 0.8608 - val_loss: 0.3596 - val_accuracy: 0.8531\n",
      "Epoch 76/100\n",
      "5359/5359 [==============================] - 1s 219us/step - loss: 0.3346 - accuracy: 0.8600 - val_loss: 0.3592 - val_accuracy: 0.8535\n",
      "Epoch 77/100\n",
      "5359/5359 [==============================] - 1s 221us/step - loss: 0.3343 - accuracy: 0.8600 - val_loss: 0.3594 - val_accuracy: 0.8538\n",
      "Epoch 78/100\n",
      "5359/5359 [==============================] - 1s 205us/step - loss: 0.3343 - accuracy: 0.8600 - val_loss: 0.3589 - val_accuracy: 0.8531\n",
      "Epoch 79/100\n",
      "5359/5359 [==============================] - 1s 215us/step - loss: 0.3340 - accuracy: 0.8597 - val_loss: 0.3586 - val_accuracy: 0.8550\n",
      "Epoch 80/100\n",
      "5359/5359 [==============================] - 1s 217us/step - loss: 0.3341 - accuracy: 0.8606 - val_loss: 0.3585 - val_accuracy: 0.8535\n",
      "Epoch 81/100\n",
      "5359/5359 [==============================] - 1s 270us/step - loss: 0.3338 - accuracy: 0.8602 - val_loss: 0.3587 - val_accuracy: 0.8523\n",
      "Epoch 82/100\n",
      "5359/5359 [==============================] - 1s 212us/step - loss: 0.3336 - accuracy: 0.8606 - val_loss: 0.3587 - val_accuracy: 0.8554\n",
      "Epoch 83/100\n",
      "5359/5359 [==============================] - 1s 213us/step - loss: 0.3338 - accuracy: 0.8608 - val_loss: 0.3580 - val_accuracy: 0.8554\n",
      "Epoch 84/100\n",
      "5359/5359 [==============================] - 1s 198us/step - loss: 0.3336 - accuracy: 0.8602 - val_loss: 0.3582 - val_accuracy: 0.8565\n",
      "Epoch 85/100\n",
      "5359/5359 [==============================] - 1s 219us/step - loss: 0.3332 - accuracy: 0.8610 - val_loss: 0.3585 - val_accuracy: 0.8554\n",
      "Epoch 86/100\n",
      "5359/5359 [==============================] - 1s 217us/step - loss: 0.3333 - accuracy: 0.8614 - val_loss: 0.3580 - val_accuracy: 0.8554\n",
      "Epoch 87/100\n",
      "5359/5359 [==============================] - 1s 203us/step - loss: 0.3332 - accuracy: 0.8606 - val_loss: 0.3579 - val_accuracy: 0.8542\n",
      "Epoch 88/100\n",
      "5359/5359 [==============================] - 1s 237us/step - loss: 0.3332 - accuracy: 0.8614 - val_loss: 0.3578 - val_accuracy: 0.8573\n",
      "Epoch 89/100\n",
      "5359/5359 [==============================] - 1s 225us/step - loss: 0.3330 - accuracy: 0.8600 - val_loss: 0.3576 - val_accuracy: 0.8550\n",
      "Epoch 90/100\n",
      "5359/5359 [==============================] - 1s 216us/step - loss: 0.3330 - accuracy: 0.8625 - val_loss: 0.3579 - val_accuracy: 0.8561\n",
      "Epoch 91/100\n",
      "5359/5359 [==============================] - 1s 224us/step - loss: 0.3328 - accuracy: 0.8602 - val_loss: 0.3571 - val_accuracy: 0.8565\n",
      "Epoch 92/100\n",
      "5359/5359 [==============================] - 1s 219us/step - loss: 0.3328 - accuracy: 0.8600 - val_loss: 0.3576 - val_accuracy: 0.8565\n",
      "Epoch 93/100\n",
      "5359/5359 [==============================] - 1s 207us/step - loss: 0.3327 - accuracy: 0.8599 - val_loss: 0.3571 - val_accuracy: 0.8557\n",
      "Epoch 94/100\n",
      "5359/5359 [==============================] - 1s 266us/step - loss: 0.3324 - accuracy: 0.8614 - val_loss: 0.3575 - val_accuracy: 0.8573\n",
      "Epoch 95/100\n",
      "5359/5359 [==============================] - 1s 245us/step - loss: 0.3326 - accuracy: 0.8600 - val_loss: 0.3573 - val_accuracy: 0.8561\n",
      "Epoch 96/100\n",
      "5359/5359 [==============================] - 1s 216us/step - loss: 0.3324 - accuracy: 0.8606 - val_loss: 0.3575 - val_accuracy: 0.8557\n",
      "Epoch 97/100\n",
      "5359/5359 [==============================] - 1s 209us/step - loss: 0.3323 - accuracy: 0.8608 - val_loss: 0.3571 - val_accuracy: 0.8561\n",
      "Epoch 98/100\n",
      "5359/5359 [==============================] - 1s 242us/step - loss: 0.3319 - accuracy: 0.8604 - val_loss: 0.3581 - val_accuracy: 0.8531\n",
      "Epoch 99/100\n",
      "5359/5359 [==============================] - 1s 252us/step - loss: 0.3322 - accuracy: 0.8612 - val_loss: 0.3564 - val_accuracy: 0.8565\n",
      "Epoch 100/100\n",
      "5359/5359 [==============================] - 1s 235us/step - loss: 0.3321 - accuracy: 0.8627 - val_loss: 0.3565 - val_accuracy: 0.8573\n"
     ]
    }
   ],
   "source": [
    "# Fitting the ANN to the Training set\n",
    "model_history=classifier.fit(X_train, y_train,validation_split=0.33, batch_size = 10, nb_epoch = 100)\n",
    "                                                             ## batch size used for minimize computation power as it will convert n data points into k batches"
   ]
  },
  {
   "cell_type": "code",
   "execution_count": 20,
   "metadata": {},
   "outputs": [
    {
     "name": "stdout",
     "output_type": "stream",
     "text": [
      "dict_keys(['val_loss', 'val_accuracy', 'loss', 'accuracy'])\n"
     ]
    },
    {
     "data": {
      "image/png": "[encoded data removed]",
      "text/plain": [
       "<Figure size 432x288 with 1 Axes>"
      ]
     },
     "metadata": {
      "needs_background": "light"
     },
     "output_type": "display_data"
    }
   ],
   "source": [
    "# list all data in history\n",
    "\n",
    "print(model_history.history.keys())\n",
    "# summarize history for accuracy\n",
    "plt.plot(model_history.history['accuracy'])\n",
    "plt.plot(model_history.history['val_accuracy'])\n",
    "plt.title('model accuracy')\n",
    "plt.ylabel('accuracy')\n",
    "plt.xlabel('epoch')\n",
    "plt.legend(['train', 'test'], loc='upper left')\n",
    "plt.show()"
   ]
  },
  {
   "cell_type": "code",
   "execution_count": 21,
   "metadata": {},
   "outputs": [
    {
     "data": {
      "image/png": "[encoded data removed]",
      "text/plain": [
       "<Figure size 432x288 with 1 Axes>"
      ]
     },
     "metadata": {
      "needs_background": "light"
     },
     "output_type": "display_data"
    }
   ],
   "source": [
    "# summarize history for loss\n",
    "plt.plot(model_history.history['loss'])\n",
    "plt.plot(model_history.history['val_loss'])\n",
    "plt.title('model loss')\n",
    "plt.ylabel('loss')\n",
    "plt.xlabel('epoch')\n",
    "plt.legend(['train', 'test'], loc='upper left')\n",
    "plt.show()"
   ]
  },
  {
   "cell_type": "markdown",
   "metadata": {},
   "source": [
    "## Part 3 - Making the predictions and evaluating the model"
   ]
  },
  {
   "cell_type": "code",
   "execution_count": 22,
   "metadata": {},
   "outputs": [
    {
     "data": {
      "text/plain": [
       "array([[False],\n",
       "       [False],\n",
       "       [False],\n",
       "       ...,\n",
       "       [False],\n",
       "       [False],\n",
       "       [False]])"
      ]
     },
     "execution_count": 22,
     "metadata": {},
     "output_type": "execute_result"
    }
   ],
   "source": [
    "# Predicting the Test set results\n",
    "y_pred = classifier.predict(X_test)\n",
    "y_pred = (y_pred > 0.5)\n",
    "y_pred"
   ]
  },
  {
   "cell_type": "code",
   "execution_count": 23,
   "metadata": {},
   "outputs": [
    {
     "data": {
      "text/plain": [
       "array([[1501,   94],\n",
       "       [ 199,  206]], dtype=int64)"
      ]
     },
     "execution_count": 23,
     "metadata": {},
     "output_type": "execute_result"
    }
   ],
   "source": [
    "# Making the Confusion Matrix\n",
    "from sklearn.metrics import confusion_matrix\n",
    "cm = confusion_matrix(y_test, y_pred)\n",
    "cm"
   ]
  },
  {
   "cell_type": "code",
   "execution_count": 24,
   "metadata": {},
   "outputs": [
    {
     "data": {
      "text/plain": [
       "0.8535"
      ]
     },
     "execution_count": 24,
     "metadata": {},
     "output_type": "execute_result"
    }
   ],
   "source": [
    "# Calculate the Accuracy\n",
    "from sklearn.metrics import accuracy_score\n",
    "score=accuracy_score(y_pred,y_test)\n",
    "score"
   ]
  },
  {
   "cell_type": "code",
   "execution_count": 25,
   "metadata": {},
   "outputs": [],
   "source": [
    "### we get good training and testing accuracy so we don't make model overfitted."
   ]
  },
  {
   "cell_type": "code",
   "execution_count": null,
   "metadata": {},
   "outputs": [],
   "source": []
  },
  {
   "cell_type": "markdown",
   "metadata": {},
   "source": [
    "## Add dropout and make new classifier with multiple permutaion combination to check accuracy"
   ]
  },
  {
   "cell_type": "code",
   "execution_count": 26,
   "metadata": {},
   "outputs": [],
   "source": [
    "# Initialising the ANN\n",
    "classifier1 = Sequential()\n",
    "\n",
    "\n",
    "\n",
    "# Adding the input layer and the first hidden layer\n",
    "classifier1.add(Dense(input_dim = 11, kernel_initializer = 'he_uniform',activation='relu',units = 8))\n",
    "classifier1.add(Dropout(0.3))      #add random dropout rate in layers as a regularization parameters    \n",
    "            \n",
    "# Adding the second hidden layer\n",
    "classifier1.add(Dense( kernel_initializer = 'he_normal',activation='relu',units = 7))\n",
    "classifier1.add(Dropout(0.4)) \n",
    "\n",
    "# Adding the third hidden layer\n",
    "classifier1.add(Dense( kernel_initializer = 'he_normal',activation='relu',units = 6))\n",
    "classifier1.add(Dropout(0.2)) \n",
    "                                                                         \n",
    "\n",
    "# Adding the output layer\n",
    "classifier1.add(Dense( kernel_initializer = 'glorot_uniform', activation = 'sigmoid',units = 1))\n",
    "                                                  "
   ]
  },
  {
   "cell_type": "code",
   "execution_count": 27,
   "metadata": {},
   "outputs": [
    {
     "name": "stdout",
     "output_type": "stream",
     "text": [
      "Model: \"sequential_2\"\n",
      "_________________________________________________________________\n",
      "Layer (type)                 Output Shape              Param #   \n",
      "=================================================================\n",
      "dense_4 (Dense)              (None, 8)                 96        \n",
      "_________________________________________________________________\n",
      "dropout_1 (Dropout)          (None, 8)                 0         \n",
      "_________________________________________________________________\n",
      "dense_5 (Dense)              (None, 7)                 63        \n",
      "_________________________________________________________________\n",
      "dropout_2 (Dropout)          (None, 7)                 0         \n",
      "_________________________________________________________________\n",
      "dense_6 (Dense)              (None, 6)                 48        \n",
      "_________________________________________________________________\n",
      "dropout_3 (Dropout)          (None, 6)                 0         \n",
      "_________________________________________________________________\n",
      "dense_7 (Dense)              (None, 1)                 7         \n",
      "=================================================================\n",
      "Total params: 214\n",
      "Trainable params: 214\n",
      "Non-trainable params: 0\n",
      "_________________________________________________________________\n"
     ]
    }
   ],
   "source": [
    "classifier1.summary()"
   ]
  },
  {
   "cell_type": "code",
   "execution_count": 28,
   "metadata": {},
   "outputs": [],
   "source": [
    "# Compiling the ANN\n",
    "classifier1.compile(optimizer = 'Adam', loss = 'binary_crossentropy', metrics = ['accuracy'])\n",
    "                 #optimizer             loss function                  performance metrics\n",
    "                                        #binary_crossentropy best for binary classification problem"
   ]
  },
  {
   "cell_type": "code",
   "execution_count": 29,
   "metadata": {},
   "outputs": [
    {
     "name": "stderr",
     "output_type": "stream",
     "text": [
      "C:\\ProgramData\\Anaconda3\\lib\\site-packages\\ipykernel_launcher.py:2: UserWarning: The `nb_epoch` argument in `fit` has been renamed `epochs`.\n",
      "  \n"
     ]
    },
    {
     "name": "stdout",
     "output_type": "stream",
     "text": [
      "Train on 5359 samples, validate on 2641 samples\n",
      "Epoch 1/100\n",
      "5359/5359 [==============================] - 2s 409us/step - loss: 0.6268 - accuracy: 0.7421 - val_loss: 0.5076 - val_accuracy: 0.7955\n",
      "Epoch 2/100\n",
      "5359/5359 [==============================] - 1s 268us/step - loss: 0.5328 - accuracy: 0.7850 - val_loss: 0.4982 - val_accuracy: 0.7955\n",
      "Epoch 3/100\n",
      "5359/5359 [==============================] - 2s 289us/step - loss: 0.5034 - accuracy: 0.7923 - val_loss: 0.4829 - val_accuracy: 0.7955\n",
      "Epoch 4/100\n",
      "5359/5359 [==============================] - 1s 246us/step - loss: 0.4940 - accuracy: 0.7946 - val_loss: 0.4749 - val_accuracy: 0.7955\n",
      "Epoch 5/100\n",
      "5359/5359 [==============================] - 1s 237us/step - loss: 0.4820 - accuracy: 0.7960 - val_loss: 0.4619 - val_accuracy: 0.7955\n",
      "Epoch 6/100\n",
      "5359/5359 [==============================] - 1s 253us/step - loss: 0.4788 - accuracy: 0.7962 - val_loss: 0.4602 - val_accuracy: 0.7955\n",
      "Epoch 7/100\n",
      "5359/5359 [==============================] - 1s 279us/step - loss: 0.4756 - accuracy: 0.7962 - val_loss: 0.4537 - val_accuracy: 0.7955\n",
      "Epoch 8/100\n",
      "5359/5359 [==============================] - 1s 271us/step - loss: 0.4695 - accuracy: 0.7962 - val_loss: 0.4594 - val_accuracy: 0.7955\n",
      "Epoch 9/100\n",
      "5359/5359 [==============================] - 2s 293us/step - loss: 0.4628 - accuracy: 0.7962 - val_loss: 0.4497 - val_accuracy: 0.7955\n",
      "Epoch 10/100\n",
      "5359/5359 [==============================] - 2s 283us/step - loss: 0.4571 - accuracy: 0.7962 - val_loss: 0.4446 - val_accuracy: 0.7955\n",
      "Epoch 11/100\n",
      "5359/5359 [==============================] - 1s 262us/step - loss: 0.4577 - accuracy: 0.7962 - val_loss: 0.4440 - val_accuracy: 0.7955\n",
      "Epoch 12/100\n",
      "5359/5359 [==============================] - 1s 266us/step - loss: 0.4609 - accuracy: 0.7962 - val_loss: 0.4458 - val_accuracy: 0.7955\n",
      "Epoch 13/100\n",
      "5359/5359 [==============================] - 1s 272us/step - loss: 0.4585 - accuracy: 0.7962 - val_loss: 0.4470 - val_accuracy: 0.7955\n",
      "Epoch 14/100\n",
      "5359/5359 [==============================] - 2s 303us/step - loss: 0.4610 - accuracy: 0.7962 - val_loss: 0.4459 - val_accuracy: 0.7955\n",
      "Epoch 15/100\n",
      "5359/5359 [==============================] - 1s 262us/step - loss: 0.4543 - accuracy: 0.7962 - val_loss: 0.4452 - val_accuracy: 0.7955\n",
      "Epoch 16/100\n",
      "5359/5359 [==============================] - 1s 260us/step - loss: 0.4536 - accuracy: 0.7962 - val_loss: 0.4407 - val_accuracy: 0.7955\n",
      "Epoch 17/100\n",
      "5359/5359 [==============================] - 1s 247us/step - loss: 0.4524 - accuracy: 0.7962 - val_loss: 0.4392 - val_accuracy: 0.7955\n",
      "Epoch 18/100\n",
      "5359/5359 [==============================] - 1s 267us/step - loss: 0.4528 - accuracy: 0.7962 - val_loss: 0.4389 - val_accuracy: 0.7955\n",
      "Epoch 19/100\n",
      "5359/5359 [==============================] - 1s 262us/step - loss: 0.4519 - accuracy: 0.7962 - val_loss: 0.4422 - val_accuracy: 0.7955\n",
      "Epoch 20/100\n",
      "5359/5359 [==============================] - 1s 259us/step - loss: 0.4563 - accuracy: 0.7962 - val_loss: 0.4454 - val_accuracy: 0.7955\n",
      "Epoch 21/100\n",
      "5359/5359 [==============================] - 1s 254us/step - loss: 0.4416 - accuracy: 0.7962 - val_loss: 0.4346 - val_accuracy: 0.7955\n",
      "Epoch 22/100\n",
      "5359/5359 [==============================] - 1s 259us/step - loss: 0.4500 - accuracy: 0.7962 - val_loss: 0.4354 - val_accuracy: 0.7955\n",
      "Epoch 23/100\n",
      "5359/5359 [==============================] - 1s 261us/step - loss: 0.4440 - accuracy: 0.7962 - val_loss: 0.4305 - val_accuracy: 0.7955\n",
      "Epoch 24/100\n",
      "5359/5359 [==============================] - 1s 262us/step - loss: 0.4419 - accuracy: 0.7962 - val_loss: 0.4294 - val_accuracy: 0.7955\n",
      "Epoch 25/100\n",
      "5359/5359 [==============================] - 2s 313us/step - loss: 0.4439 - accuracy: 0.7962 - val_loss: 0.4270 - val_accuracy: 0.7955\n",
      "Epoch 26/100\n",
      "5359/5359 [==============================] - 1s 272us/step - loss: 0.4376 - accuracy: 0.7962 - val_loss: 0.4248 - val_accuracy: 0.7955\n",
      "Epoch 27/100\n",
      "5359/5359 [==============================] - 1s 267us/step - loss: 0.4399 - accuracy: 0.7962 - val_loss: 0.4205 - val_accuracy: 0.7955\n",
      "Epoch 28/100\n",
      "5359/5359 [==============================] - 1s 252us/step - loss: 0.4376 - accuracy: 0.7962 - val_loss: 0.4228 - val_accuracy: 0.7955\n",
      "Epoch 29/100\n",
      "5359/5359 [==============================] - 1s 271us/step - loss: 0.4286 - accuracy: 0.7962 - val_loss: 0.4131 - val_accuracy: 0.7955\n",
      "Epoch 30/100\n",
      "5359/5359 [==============================] - 1s 277us/step - loss: 0.4339 - accuracy: 0.7962 - val_loss: 0.4164 - val_accuracy: 0.7955\n",
      "Epoch 31/100\n",
      "5359/5359 [==============================] - 1s 260us/step - loss: 0.4386 - accuracy: 0.7962 - val_loss: 0.4217 - val_accuracy: 0.7955\n",
      "Epoch 32/100\n",
      "5359/5359 [==============================] - 1s 258us/step - loss: 0.4321 - accuracy: 0.7962 - val_loss: 0.4161 - val_accuracy: 0.7955\n",
      "Epoch 33/100\n",
      "5359/5359 [==============================] - 1s 267us/step - loss: 0.4375 - accuracy: 0.7962 - val_loss: 0.4168 - val_accuracy: 0.7955\n",
      "Epoch 34/100\n",
      "5359/5359 [==============================] - 1s 264us/step - loss: 0.4318 - accuracy: 0.7962 - val_loss: 0.4201 - val_accuracy: 0.7955\n",
      "Epoch 35/100\n",
      "5359/5359 [==============================] - 1s 263us/step - loss: 0.4317 - accuracy: 0.7962 - val_loss: 0.4131 - val_accuracy: 0.7955\n",
      "Epoch 36/100\n",
      "5359/5359 [==============================] - 2s 315us/step - loss: 0.4309 - accuracy: 0.7962 - val_loss: 0.4157 - val_accuracy: 0.7955\n",
      "Epoch 37/100\n",
      "5359/5359 [==============================] - 1s 276us/step - loss: 0.4340 - accuracy: 0.7962 - val_loss: 0.4111 - val_accuracy: 0.7955\n",
      "Epoch 38/100\n",
      "5359/5359 [==============================] - 1s 262us/step - loss: 0.4284 - accuracy: 0.7962 - val_loss: 0.4100 - val_accuracy: 0.7955\n",
      "Epoch 39/100\n",
      "5359/5359 [==============================] - 1s 258us/step - loss: 0.4282 - accuracy: 0.7962 - val_loss: 0.4071 - val_accuracy: 0.7955\n",
      "Epoch 40/100\n",
      "5359/5359 [==============================] - 1s 263us/step - loss: 0.4322 - accuracy: 0.7962 - val_loss: 0.4112 - val_accuracy: 0.7955\n",
      "Epoch 41/100\n",
      "5359/5359 [==============================] - 2s 289us/step - loss: 0.4300 - accuracy: 0.7962 - val_loss: 0.4077 - val_accuracy: 0.7955\n",
      "Epoch 42/100\n",
      "5359/5359 [==============================] - 1s 270us/step - loss: 0.4211 - accuracy: 0.7962 - val_loss: 0.3994 - val_accuracy: 0.7955\n",
      "Epoch 43/100\n",
      "5359/5359 [==============================] - 1s 251us/step - loss: 0.4257 - accuracy: 0.7962 - val_loss: 0.4088 - val_accuracy: 0.7955\n",
      "Epoch 44/100\n",
      "5359/5359 [==============================] - 1s 268us/step - loss: 0.4213 - accuracy: 0.7962 - val_loss: 0.4105 - val_accuracy: 0.7955\n",
      "Epoch 45/100\n",
      "5359/5359 [==============================] - 1s 264us/step - loss: 0.4245 - accuracy: 0.7962 - val_loss: 0.4041 - val_accuracy: 0.7955\n",
      "Epoch 46/100\n",
      "5359/5359 [==============================] - 1s 262us/step - loss: 0.4278 - accuracy: 0.7962 - val_loss: 0.4038 - val_accuracy: 0.7955\n",
      "Epoch 47/100\n",
      "5359/5359 [==============================] - 2s 310us/step - loss: 0.4268 - accuracy: 0.7962 - val_loss: 0.4024 - val_accuracy: 0.7955\n",
      "Epoch 48/100\n",
      "5359/5359 [==============================] - 2s 281us/step - loss: 0.4305 - accuracy: 0.7962 - val_loss: 0.4076 - val_accuracy: 0.7955\n",
      "Epoch 49/100\n",
      "5359/5359 [==============================] - 1s 262us/step - loss: 0.4271 - accuracy: 0.7962 - val_loss: 0.4100 - val_accuracy: 0.7955\n",
      "Epoch 50/100\n",
      "5359/5359 [==============================] - 1s 252us/step - loss: 0.4241 - accuracy: 0.7962 - val_loss: 0.4041 - val_accuracy: 0.7955\n",
      "Epoch 51/100\n",
      "5359/5359 [==============================] - 1s 271us/step - loss: 0.4241 - accuracy: 0.7962 - val_loss: 0.4122 - val_accuracy: 0.7955\n",
      "Epoch 52/100\n",
      "5359/5359 [==============================] - 1s 268us/step - loss: 0.4259 - accuracy: 0.7962 - val_loss: 0.4128 - val_accuracy: 0.7955\n",
      "Epoch 53/100\n",
      "5359/5359 [==============================] - 1s 271us/step - loss: 0.4245 - accuracy: 0.7962 - val_loss: 0.4014 - val_accuracy: 0.7955\n",
      "Epoch 54/100\n",
      "5359/5359 [==============================] - 1s 261us/step - loss: 0.4203 - accuracy: 0.7962 - val_loss: 0.4018 - val_accuracy: 0.7955\n",
      "Epoch 55/100\n",
      "5359/5359 [==============================] - 1s 268us/step - loss: 0.4247 - accuracy: 0.7962 - val_loss: 0.4011 - val_accuracy: 0.7955\n",
      "Epoch 56/100\n"
     ]
    },
    {
     "name": "stdout",
     "output_type": "stream",
     "text": [
      "5359/5359 [==============================] - 1s 238us/step - loss: 0.4191 - accuracy: 0.7962 - val_loss: 0.3977 - val_accuracy: 0.7955\n",
      "Epoch 57/100\n",
      "5359/5359 [==============================] - 1s 238us/step - loss: 0.4178 - accuracy: 0.7960 - val_loss: 0.3985 - val_accuracy: 0.7955\n",
      "Epoch 58/100\n",
      "5359/5359 [==============================] - 1s 272us/step - loss: 0.4200 - accuracy: 0.7962 - val_loss: 0.4010 - val_accuracy: 0.7955\n",
      "Epoch 59/100\n",
      "5359/5359 [==============================] - 1s 269us/step - loss: 0.4299 - accuracy: 0.7962 - val_loss: 0.4088 - val_accuracy: 0.7955\n",
      "Epoch 60/100\n",
      "5359/5359 [==============================] - 1s 239us/step - loss: 0.4263 - accuracy: 0.7962 - val_loss: 0.4075 - val_accuracy: 0.7955\n",
      "Epoch 61/100\n",
      "5359/5359 [==============================] - 1s 234us/step - loss: 0.4171 - accuracy: 0.7962 - val_loss: 0.4011 - val_accuracy: 0.7955\n",
      "Epoch 62/100\n",
      "5359/5359 [==============================] - 1s 251us/step - loss: 0.4243 - accuracy: 0.7962 - val_loss: 0.4106 - val_accuracy: 0.7955\n",
      "Epoch 63/100\n",
      "5359/5359 [==============================] - 1s 262us/step - loss: 0.4222 - accuracy: 0.7962 - val_loss: 0.3996 - val_accuracy: 0.7955\n",
      "Epoch 64/100\n",
      "5359/5359 [==============================] - 1s 249us/step - loss: 0.4261 - accuracy: 0.7962 - val_loss: 0.4080 - val_accuracy: 0.7955\n",
      "Epoch 65/100\n",
      "5359/5359 [==============================] - 1s 235us/step - loss: 0.4224 - accuracy: 0.7962 - val_loss: 0.4054 - val_accuracy: 0.7955\n",
      "Epoch 66/100\n",
      "5359/5359 [==============================] - 1s 250us/step - loss: 0.4242 - accuracy: 0.7962 - val_loss: 0.4097 - val_accuracy: 0.7955\n",
      "Epoch 67/100\n",
      "5359/5359 [==============================] - 1s 249us/step - loss: 0.4248 - accuracy: 0.7962 - val_loss: 0.4081 - val_accuracy: 0.7955\n",
      "Epoch 68/100\n",
      "5359/5359 [==============================] - 1s 252us/step - loss: 0.4220 - accuracy: 0.7960 - val_loss: 0.4087 - val_accuracy: 0.7955\n",
      "Epoch 69/100\n",
      "5359/5359 [==============================] - 1s 239us/step - loss: 0.4262 - accuracy: 0.7960 - val_loss: 0.4144 - val_accuracy: 0.7955\n",
      "Epoch 70/100\n",
      "5359/5359 [==============================] - 2s 283us/step - loss: 0.4222 - accuracy: 0.7962 - val_loss: 0.4166 - val_accuracy: 0.7955\n",
      "Epoch 71/100\n",
      "5359/5359 [==============================] - 1s 278us/step - loss: 0.4277 - accuracy: 0.7962 - val_loss: 0.4074 - val_accuracy: 0.7955\n",
      "Epoch 72/100\n",
      "5359/5359 [==============================] - 1s 249us/step - loss: 0.4229 - accuracy: 0.7960 - val_loss: 0.4047 - val_accuracy: 0.7955\n",
      "Epoch 73/100\n",
      "5359/5359 [==============================] - 1s 237us/step - loss: 0.4203 - accuracy: 0.7960 - val_loss: 0.3998 - val_accuracy: 0.7955\n",
      "Epoch 74/100\n",
      "5359/5359 [==============================] - 1s 249us/step - loss: 0.4246 - accuracy: 0.7962 - val_loss: 0.3977 - val_accuracy: 0.7955\n",
      "Epoch 75/100\n",
      "5359/5359 [==============================] - 1s 249us/step - loss: 0.4179 - accuracy: 0.7962 - val_loss: 0.4044 - val_accuracy: 0.7955\n",
      "Epoch 76/100\n",
      "5359/5359 [==============================] - 1s 246us/step - loss: 0.4224 - accuracy: 0.7962 - val_loss: 0.4005 - val_accuracy: 0.7955\n",
      "Epoch 77/100\n",
      "5359/5359 [==============================] - 1s 236us/step - loss: 0.4236 - accuracy: 0.7962 - val_loss: 0.4058 - val_accuracy: 0.7955\n",
      "Epoch 78/100\n",
      "5359/5359 [==============================] - 1s 249us/step - loss: 0.4243 - accuracy: 0.7962 - val_loss: 0.4163 - val_accuracy: 0.7955\n",
      "Epoch 79/100\n",
      "5359/5359 [==============================] - 1s 249us/step - loss: 0.4184 - accuracy: 0.7962 - val_loss: 0.3947 - val_accuracy: 0.7955\n",
      "Epoch 80/100\n",
      "5359/5359 [==============================] - 1s 249us/step - loss: 0.4181 - accuracy: 0.7960 - val_loss: 0.3991 - val_accuracy: 0.7955\n",
      "Epoch 81/100\n",
      "5359/5359 [==============================] - 1s 239us/step - loss: 0.4227 - accuracy: 0.7962 - val_loss: 0.3971 - val_accuracy: 0.7955\n",
      "Epoch 82/100\n",
      "5359/5359 [==============================] - 2s 301us/step - loss: 0.4251 - accuracy: 0.7962 - val_loss: 0.4105 - val_accuracy: 0.7955\n",
      "Epoch 83/100\n",
      "5359/5359 [==============================] - 2s 283us/step - loss: 0.4230 - accuracy: 0.7962 - val_loss: 0.4009 - val_accuracy: 0.7955\n",
      "Epoch 84/100\n",
      "5359/5359 [==============================] - 1s 243us/step - loss: 0.4203 - accuracy: 0.7962 - val_loss: 0.3922 - val_accuracy: 0.7955\n",
      "Epoch 85/100\n",
      "5359/5359 [==============================] - 1s 246us/step - loss: 0.4204 - accuracy: 0.7962 - val_loss: 0.3991 - val_accuracy: 0.7955\n",
      "Epoch 86/100\n",
      "5359/5359 [==============================] - 2s 283us/step - loss: 0.4188 - accuracy: 0.7962 - val_loss: 0.4077 - val_accuracy: 0.7955\n",
      "Epoch 87/100\n",
      "5359/5359 [==============================] - 2s 308us/step - loss: 0.4179 - accuracy: 0.7962 - val_loss: 0.3958 - val_accuracy: 0.7955\n",
      "Epoch 88/100\n",
      "5359/5359 [==============================] - 2s 292us/step - loss: 0.4178 - accuracy: 0.7962 - val_loss: 0.4074 - val_accuracy: 0.7955\n",
      "Epoch 89/100\n",
      "5359/5359 [==============================] - 2s 311us/step - loss: 0.4208 - accuracy: 0.7960 - val_loss: 0.3975 - val_accuracy: 0.7955\n",
      "Epoch 90/100\n",
      "5359/5359 [==============================] - 2s 288us/step - loss: 0.4183 - accuracy: 0.7962 - val_loss: 0.3987 - val_accuracy: 0.7955\n",
      "Epoch 91/100\n",
      "5359/5359 [==============================] - 1s 279us/step - loss: 0.4193 - accuracy: 0.7962 - val_loss: 0.4043 - val_accuracy: 0.7955\n",
      "Epoch 92/100\n",
      "5359/5359 [==============================] - 2s 289us/step - loss: 0.4221 - accuracy: 0.7962 - val_loss: 0.4008 - val_accuracy: 0.7955\n",
      "Epoch 93/100\n",
      "5359/5359 [==============================] - 2s 305us/step - loss: 0.4169 - accuracy: 0.7962 - val_loss: 0.3960 - val_accuracy: 0.7955\n",
      "Epoch 94/100\n",
      "5359/5359 [==============================] - 1s 271us/step - loss: 0.4245 - accuracy: 0.7962 - val_loss: 0.4026 - val_accuracy: 0.7955\n",
      "Epoch 95/100\n",
      "5359/5359 [==============================] - 1s 261us/step - loss: 0.4186 - accuracy: 0.7962 - val_loss: 0.3994 - val_accuracy: 0.7955\n",
      "Epoch 96/100\n",
      "5359/5359 [==============================] - 1s 258us/step - loss: 0.4156 - accuracy: 0.7962 - val_loss: 0.3988 - val_accuracy: 0.7955\n",
      "Epoch 97/100\n",
      "5359/5359 [==============================] - 2s 283us/step - loss: 0.4213 - accuracy: 0.7962 - val_loss: 0.4071 - val_accuracy: 0.7955\n",
      "Epoch 98/100\n",
      "5359/5359 [==============================] - 2s 281us/step - loss: 0.4152 - accuracy: 0.7962 - val_loss: 0.3955 - val_accuracy: 0.7955\n",
      "Epoch 99/100\n",
      "5359/5359 [==============================] - 2s 284us/step - loss: 0.4224 - accuracy: 0.7962 - val_loss: 0.4019 - val_accuracy: 0.7955\n",
      "Epoch 100/100\n",
      "5359/5359 [==============================] - 1s 267us/step - loss: 0.4186 - accuracy: 0.7960 - val_loss: 0.4114 - val_accuracy: 0.7955\n"
     ]
    }
   ],
   "source": [
    "# Fitting the ANN to the Training set\n",
    "model_history=classifier1.fit(X_train, y_train,validation_split=0.33, batch_size = 10, nb_epoch = 100)\n",
    "                                                             ## batch size used for minimize computation power as it will convert n data points into k batches"
   ]
  },
  {
   "cell_type": "code",
   "execution_count": 30,
   "metadata": {},
   "outputs": [],
   "source": [
    "## After applying dropout and add 1 more hidden layer doesn't increase my accuracy so previous model is perfecgt for our problem"
   ]
  },
  {
   "cell_type": "code",
   "execution_count": 31,
   "metadata": {},
   "outputs": [
    {
     "name": "stdout",
     "output_type": "stream",
     "text": [
      "[[False]\n",
      " [False]\n",
      " [False]\n",
      " ...\n",
      " [False]\n",
      " [False]\n",
      " [False]]\n",
      "[[1501   94]\n",
      " [ 199  206]]\n",
      "0.8535\n"
     ]
    }
   ],
   "source": [
    "# Predicting the Test set results\n",
    "y_pred = classifier.predict(X_test)\n",
    "y_pred = (y_pred > 0.5)\n",
    "print(y_pred)\n",
    "# Making the Confusion Matrix\n",
    "from sklearn.metrics import confusion_matrix\n",
    "cm = confusion_matrix(y_test, y_pred)\n",
    "print(cm)\n",
    "# Calculate the Accuracy\n",
    "from sklearn.metrics import accuracy_score\n",
    "score=accuracy_score(y_pred,y_test)\n",
    "print(score)"
   ]
  },
  {
   "cell_type": "code",
   "execution_count": null,
   "metadata": {},
   "outputs": [],
   "source": []
  },
  {
   "cell_type": "code",
   "execution_count": null,
   "metadata": {},
   "outputs": [],
   "source": []
  }
 ],
 "metadata": {
  "kernelspec": {
   "display_name": "Python 3",
   "language": "python",
   "name": "python3"
  },
  "language_info": {
   "codemirror_mode": {
    "name": "ipython",
    "version": 3
   },
   "file_extension": ".py",
   "mimetype": "text/x-python",
   "name": "python",
   "nbconvert_exporter": "python",
   "pygments_lexer": "ipython3",
   "version": "3.7.4"
  }
 },
 "nbformat": 4,
 "nbformat_minor": 2
}
